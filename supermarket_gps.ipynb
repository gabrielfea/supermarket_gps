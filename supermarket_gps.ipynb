{
  "cells": [
    {
      "cell_type": "markdown",
      "metadata": {
        "id": "view-in-github",
        "colab_type": "text"
      },
      "source": [
        "<a href=\"https://colab.research.google.com/github/gabrielfea/supermarket_gps/blob/main/supermarket_gps.ipynb\" target=\"_parent\"><img src=\"https://colab.research.google.com/assets/colab-badge.svg\" alt=\"Open In Colab\"/></a>"
      ]
    },
    {
      "cell_type": "markdown",
      "source": [
        "#GPS_SUPERMARKET - PROTÓTIPO"
      ],
      "metadata": {
        "id": "U0_VfQVofnxa"
      }
    },
    {
      "cell_type": "markdown",
      "metadata": {
        "id": "Tce3stUlHN0L"
      },
      "source": [
        "##### Copyright 2024 Google LLC."
      ]
    },
    {
      "cell_type": "code",
      "execution_count": null,
      "metadata": {
        "cellView": "form",
        "id": "tuOe1ymfHZPu"
      },
      "outputs": [],
      "source": [
        "#@title Licensed under the Apache License, Version 2.0 (the \"License\");\n",
        "# you may not use this file except in compliance with the License.\n",
        "# You may obtain a copy of the License at\n",
        "#\n",
        "# https://www.apache.org/licenses/LICENSE-2.0\n",
        "#\n",
        "# Unless required by applicable law or agreed to in writing, software\n",
        "# distributed under the License is distributed on an \"AS IS\" BASIS,\n",
        "# WITHOUT WARRANTIES OR CONDITIONS OF ANY KIND, either express or implied.\n",
        "# See the License for the specific language governing permissions and\n",
        "# limitations under the License."
      ]
    },
    {
      "cell_type": "code",
      "execution_count": 1,
      "metadata": {
        "id": "9OEoeosRTv-5",
        "colab": {
          "base_uri": "https://localhost:8080/"
        },
        "outputId": "d67d046d-7942-4248-bf4d-f8205bc4bd06"
      },
      "outputs": [
        {
          "output_type": "stream",
          "name": "stdout",
          "text": [
            "\u001b[2K     \u001b[90m━━━━━━━━━━━━━━━━━━━━━━━━━━━━━━━━━━━━━━━━\u001b[0m \u001b[32m150.7/150.7 kB\u001b[0m \u001b[31m1.5 MB/s\u001b[0m eta \u001b[36m0:00:00\u001b[0m\n",
            "\u001b[2K     \u001b[90m━━━━━━━━━━━━━━━━━━━━━━━━━━━━━━━━━━━━━━━━\u001b[0m \u001b[32m677.8/677.8 kB\u001b[0m \u001b[31m10.6 MB/s\u001b[0m eta \u001b[36m0:00:00\u001b[0m\n",
            "\u001b[?25h"
          ]
        }
      ],
      "source": [
        "!pip install -q -U google-generativeai"
      ]
    },
    {
      "cell_type": "markdown",
      "metadata": {
        "id": "KCFF5VSTbcAR"
      },
      "source": [
        "### Import packages"
      ]
    },
    {
      "cell_type": "code",
      "execution_count": 2,
      "metadata": {
        "id": "TS9l5igubpHO"
      },
      "outputs": [],
      "source": [
        "import pathlib\n",
        "import textwrap\n",
        "\n",
        "import google.generativeai as genai\n",
        "\n",
        "from IPython.display import display\n",
        "from IPython.display import Markdown\n",
        "\n",
        "\n",
        "def to_markdown(text):\n",
        "  text = text.replace('•', '  *')\n",
        "  return Markdown(textwrap.indent(text, '> ', predicate=lambda _: True))"
      ]
    },
    {
      "cell_type": "code",
      "execution_count": 3,
      "metadata": {
        "id": "d10c38a5c91f"
      },
      "outputs": [],
      "source": [
        "# Used to securely store your API key\n",
        "from google.colab import userdata"
      ]
    },
    {
      "cell_type": "code",
      "execution_count": 4,
      "metadata": {
        "id": "ab9ASynfcIZn"
      },
      "outputs": [],
      "source": [
        "# Or use `os.getenv('GOOGLE_API_KEY')` to fetch an environment variable.\n",
        "GOOGLE_API_KEY=userdata.get('GOOGLE_API_KEY-L6Y')\n",
        "\n",
        "genai.configure(api_key=GOOGLE_API_KEY)"
      ]
    },
    {
      "cell_type": "code",
      "execution_count": 5,
      "metadata": {
        "id": "QvvWFy08e5c5",
        "outputId": "7e002099-b18a-46ca-f40e-dccea0dcbc82",
        "colab": {
          "base_uri": "https://localhost:8080/",
          "height": 146
        }
      },
      "outputs": [
        {
          "output_type": "stream",
          "name": "stdout",
          "text": [
            "models/gemini-1.0-pro\n",
            "models/gemini-1.0-pro-001\n",
            "models/gemini-1.0-pro-latest\n",
            "models/gemini-1.0-pro-vision-latest\n",
            "models/gemini-1.5-pro-latest\n",
            "models/gemini-pro\n",
            "models/gemini-pro-vision\n"
          ]
        }
      ],
      "source": [
        "for m in genai.list_models():\n",
        "  if 'generateContent' in m.supported_generation_methods:\n",
        "    print(m.name)"
      ]
    },
    {
      "cell_type": "markdown",
      "metadata": {
        "id": "MCzr5ZpNhxLm"
      },
      "source": [
        "## Generate text from image and text inputs\n",
        "\n",
        "Gemini provides a multimodal model (`gemini-pro-vision`) that accepts both text and images and inputs. The `GenerativeModel.generate_content` API is designed to handle multimodal prompts and returns a text output.\n",
        "\n",
        "Let's include an image:"
      ]
    },
    {
      "cell_type": "code",
      "execution_count": 6,
      "metadata": {
        "id": "CjnS0vNTsVis",
        "outputId": "4dadafef-8122-4594-a468-8e6b4890afa9",
        "colab": {
          "base_uri": "https://localhost:8080/",
          "height": 833
        }
      },
      "outputs": [
        {
          "output_type": "execute_result",
          "data": {
            "text/plain": [
              "<PIL.PngImagePlugin.PngImageFile image mode=RGB size=866x816>"
            ],
            "image/png": "[encoded data removed]"
          },
          "metadata": {},
          "execution_count": 6
        }
      ],
      "source": [
        "import PIL.Image\n",
        "\n",
        "img = PIL.Image.open('mapa_mercado.png')\n",
        "img"
      ]
    },
    {
      "cell_type": "markdown",
      "metadata": {
        "id": "7r99TN2R8EUD"
      },
      "source": [
        "Use the `gemini-pro-vision` model and pass the image to the model with `generate_content`."
      ]
    },
    {
      "cell_type": "code",
      "execution_count": 7,
      "metadata": {
        "id": "EtXxgVzmJZzE"
      },
      "outputs": [],
      "source": [
        "model = genai.GenerativeModel('gemini-pro-vision')"
      ]
    },
    {
      "cell_type": "code",
      "execution_count": 8,
      "metadata": {
        "id": "GwYifv298Cj3",
        "outputId": "b0df243d-5545-4264-d984-a2e14a35af93",
        "colab": {
          "base_uri": "https://localhost:8080/",
          "height": 62
        }
      },
      "outputs": [
        {
          "output_type": "execute_result",
          "data": {
            "text/plain": [
              "<IPython.core.display.Markdown object>"
            ],
            "text/markdown": ">  O setor de frios e laticínios está localizado na área B."
          },
          "metadata": {},
          "execution_count": 8
        }
      ],
      "source": [
        "response = model.generate_content(img)\n",
        "\n",
        "to_markdown(response.text)"
      ]
    },
    {
      "cell_type": "markdown",
      "metadata": {
        "id": "7xW2Kyra8pSz"
      },
      "source": [
        "To provide both text and images in a prompt, pass a list containing the strings and images:"
      ]
    },
    {
      "cell_type": "code",
      "source": [
        "instrucoes = \"Baseado na imagem em anexo que representa o mapa de um mercado, me sugira o melhor caminho para eu fazer minhas compras, sem andar muito, sabendo a lista de compras que irei passar em seguida. Faça eu comprar as carnes por último para elas não ficarem muito tempo no carrinho e ao final das compras me dirija ao caixa. responda de forma elegante, separando as seções e deixando fácil a leitura dos itens por seção.\"\n",
        "lista = \"Preciso comprar tomate, batata , alface, cebola, picanha, carvão, ração para a Naja, acendedor de churrasqueira, sal grosso, cerveja, e refrigerante.\"\n",
        "query = instrucoes+lista\n",
        "response = model.generate_content([instrucoes+lista, img], stream=False)\n",
        "response.resolve()\n",
        "to_markdown(response.text)"
      ],
      "metadata": {
        "colab": {
          "base_uri": "https://localhost:8080/",
          "height": 458
        },
        "id": "dD3ZVS4Dbhgh",
        "outputId": "51d54991-59b0-47e5-dde5-13b89611ee82"
      },
      "execution_count": 10,
      "outputs": [
        {
          "output_type": "execute_result",
          "data": {
            "text/plain": [
              "<IPython.core.display.Markdown object>"
            ],
            "text/markdown": ">  ### **Seção de Hortifrúti (Seção A)**\n> - Tomate\n> - Batata\n> - Alface\n> - Cebola\n> \n> ### **Seção de Carnes (Seção B)**\n> - Picanha\n> \n> ### **Seção de Utilidades Domésticas (Seção I)**\n> - Carvão\n> - Acendedor de churrasqueira\n> - Sal grosso\n> \n> ### **Seção de Bebidas (Seção H)**\n> - Cerveja\n> - Refrigerante\n> \n> ### **Seção de Pet Shop (Seção N)**\n> - Ração para a Naja\n> \n> Após passar por todas as seções, siga para o **caixa (Seção M)** para efetuar o pagamento."
          },
          "metadata": {},
          "execution_count": 10
        }
      ]
    },
    {
      "cell_type": "code",
      "source": [
        "while True:\n",
        "  instrucoes = \"Baseado na imagem em anexo que representa o mapa de um mercado, me sugira o melhor caminho para eu fazer minhas compras, sem andar muito, sabendo a lista de compras que irei passar em seguida. \"\n",
        "  forma = \"Imprima o resultado dividindo por seção, por tópicos, e só mostrando o caminho para os itens da lista de compra passada. Só apresente seções dos produtos da lista. Seja objetivo. \"\n",
        "  lista = input(\"Digite a lista de compras: \")\n",
        "  query = instrucoes+lista\n",
        "  response = model.generate_content([instrucoes+forma+lista, img], stream=False)\n",
        "  response.resolve()\n",
        "  print(response.text)\n",
        "  if input(\"Deseja sair? (s/n) \") == 's':\n",
        "    break\n",
        "  else:\n",
        "    continue"
      ],
      "metadata": {
        "colab": {
          "base_uri": "https://localhost:8080/",
          "height": 701
        },
        "id": "B0IqTx_cNd-k",
        "outputId": "35135d1b-d685-46d2-e582-4e23bb4fce00"
      },
      "execution_count": 19,
      "outputs": [
        {
          "name": "stdout",
          "output_type": "stream",
          "text": [
            "Digite a lista de compras: Picanha, Contra-Filet, Peito de Frango, batata, cenoura, limão, abóbora cambotchã, champignon, azeite, palmito, salame, pão, shoyo, kit yakisoba, macarrão de yakisoba, bisteca, costelinha barbecue, barbecue, linguiça, carvão, vinho, refri, batata palha, tempero pronto para arroz, pimentão, mussarela, danone de mel e laranja.\n",
            " **Seção de Frios e Laticínios**\n",
            "- Picanha\n",
            "- Contra-Filet\n",
            "- Peito de Frango\n",
            "- Mussarela\n",
            "- Salame\n",
            "- Pão\n",
            "- Danone de Mel e Laranja\n",
            "\n",
            "**Seção de Hortifrúti**\n",
            "- Batata\n",
            "- Cenoura\n",
            "- Limão\n",
            "- Abóbora cabotiá\n",
            "- Champignon\n",
            "- Palmito\n",
            "- Pimentão\n",
            "\n",
            "**Seção de Bebidas**\n",
            "- Azeite\n",
            "- Shoyu\n",
            "- Vinho\n",
            "- Refri\n",
            "\n",
            "**Seção de Mercearia**\n",
            "- Kit Yakisoba\n",
            "- Macarrão de Yakisoba\n",
            "- Bisteca\n",
            "- Costelinha barbecue\n",
            "- Barbecue\n",
            "- Linguiça\n",
            "- Carvão\n",
            "- Tempero pronto para arroz\n",
            "- Batata palha\n",
            "Deseja sair? (s/n) s\n"
          ]
        }
      ]
    }
  ],
  "metadata": {
    "colab": {
      "provenance": [],
      "include_colab_link": true
    },
    "google": {
      "image_path": "/static/site-assets/images/docs/logo-python.svg",
      "keywords": [
        "examples",
        "gemini",
        "beginner",
        "googleai",
        "quickstart",
        "python",
        "text",
        "chat",
        "vision",
        "embed"
      ]
    },
    "kernelspec": {
      "display_name": "Python 3",
      "name": "python3"
    }
  },
  "nbformat": 4,
  "nbformat_minor": 0
}